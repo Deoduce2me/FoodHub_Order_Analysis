{
 "cells": [
  {
   "cell_type": "markdown",
   "metadata": {
    "id": "Gc8x8QimJY_H"
   },
   "source": [
    "# Project Foundations for Data Science: FoodHub Data Analysis\n",
    "\n"
   ]
  },
  {
   "cell_type": "markdown",
   "metadata": {
    "id": "NqikjkWwJY_L"
   },
   "source": [
    "### Context\n",
    "\n",
    "The number of restaurants in New York is increasing day by day. Lots of students and busy professionals rely on those restaurants due to their hectic lifestyles. Online food delivery service is a great option for them. It provides them with good food from their favorite restaurants. A food aggregator company FoodHub offers access to multiple restaurants through a single smartphone app.\n",
    "\n",
    "The app allows the restaurants to receive a direct online order from a customer. The app assigns a delivery person from the company to pick up the order after it is confirmed by the restaurant. The delivery person then uses the map to reach the restaurant and waits for the food package. Once the food package is handed over to the delivery person, he/she confirms the pick-up in the app and travels to the customer's location to deliver the food. The delivery person confirms the drop-off in the app after delivering the food package to the customer. The customer can rate the order in the app. The food aggregator earns money by collecting a fixed margin of the delivery order from the restaurants.\n",
    "\n",
    "### Objective\n",
    "\n",
    "The food aggregator company has stored the data of the different orders made by the registered customers in their online portal. They want to analyze the data to get a fair idea about the demand of different restaurants which will help them in enhancing their customer experience. Suppose you are hired as a Data Scientist in this company and the Data Science team has shared some of the key questions that need to be answered. Perform the data analysis to find answers to these questions that will help the company to improve the business. \n",
    "\n",
    "### Data Description\n",
    "\n",
    "The data contains the different data related to a food order. The detailed data dictionary is given below.\n",
    "\n",
    "### Data Dictionary\n",
    "\n",
    "* order_id: Unique ID of the order\n",
    "* customer_id: ID of the customer who ordered the food\n",
    "* restaurant_name: Name of the restaurant\n",
    "* cuisine_type: Cuisine ordered by the customer\n",
    "* cost: Cost of the order\n",
    "* day_of_the_week: Indicates whether the order is placed on a weekday or weekend (The weekday is from Monday to Friday and the weekend is Saturday and Sunday)\n",
    "* rating: Rating given by the customer out of 5\n",
    "* food_preparation_time: Time (in minutes) taken by the restaurant to prepare the food. This is calculated by taking the difference between the timestamps of the restaurant's order confirmation and the delivery person's pick-up confirmation.\n",
    "* delivery_time: Time (in minutes) taken by the delivery person to deliver the food package. This is calculated by taking the difference between the timestamps of the delivery person's pick-up confirmation and drop-off information"
   ]
  },
  {
   "cell_type": "markdown",
   "metadata": {
    "id": "cEtNUxNAJY_M"
   },
   "source": [
    "### Let us start by importing the required libraries"
   ]
  },
  {
   "cell_type": "code",
   "execution_count": 1,
   "metadata": {
    "id": "u6PlpJAPJY_N"
   },
   "outputs": [],
   "source": [
    "# import libraries for data manipulation\n",
    "import numpy as np\n",
    "import pandas as pd\n",
    "\n",
    "# import libraries for data visualization\n",
    "import matplotlib.pyplot as plt\n",
    "import seaborn as sns\n",
    "\n",
    "%matplotlib widget\n",
    "%matplotlib inline\n",
    "import warnings\n",
    "\n",
    "# Ignore all warnings\n",
    "warnings.filterwarnings(\"ignore\")"
   ]
  },
  {
   "cell_type": "markdown",
   "metadata": {
    "id": "AdracY0HJY_O"
   },
   "source": [
    "### Understanding the structure of the data"
   ]
  },
  {
   "cell_type": "code",
   "execution_count": 2,
   "metadata": {
    "id": "WBh2ZGB9kFhU"
   },
   "outputs": [],
   "source": [
    "# uncomment and run the following lines for Google Colab\n",
    "# from google.colab import drive\n",
    "# drive.mount('/content/drive')"
   ]
  },
  {
   "cell_type": "code",
   "execution_count": 3,
   "metadata": {
    "id": "GF01IZDbJY_O",
    "scrolled": true
   },
   "outputs": [
    {
     "data": {
      "text/html": [
       "<div>\n",
       "<style scoped>\n",
       "    .dataframe tbody tr th:only-of-type {\n",
       "        vertical-align: middle;\n",
       "    }\n",
       "\n",
       "    .dataframe tbody tr th {\n",
       "        vertical-align: top;\n",
       "    }\n",
       "\n",
       "    .dataframe thead th {\n",
       "        text-align: right;\n",
       "    }\n",
       "</style>\n",
       "<table border=\"1\" class=\"dataframe\">\n",
       "  <thead>\n",
       "    <tr style=\"text-align: right;\">\n",
       "      <th></th>\n",
       "      <th>order_id</th>\n",
       "      <th>customer_id</th>\n",
       "      <th>restaurant_name</th>\n",
       "      <th>cuisine_type</th>\n",
       "      <th>cost_of_the_order</th>\n",
       "      <th>day_of_the_week</th>\n",
       "      <th>rating</th>\n",
       "      <th>food_preparation_time</th>\n",
       "      <th>delivery_time</th>\n",
       "    </tr>\n",
       "  </thead>\n",
       "  <tbody>\n",
       "    <tr>\n",
       "      <th>0</th>\n",
       "      <td>1477147</td>\n",
       "      <td>337525</td>\n",
       "      <td>Hangawi</td>\n",
       "      <td>Korean</td>\n",
       "      <td>30.75</td>\n",
       "      <td>Weekend</td>\n",
       "      <td>Not given</td>\n",
       "      <td>25</td>\n",
       "      <td>20</td>\n",
       "    </tr>\n",
       "    <tr>\n",
       "      <th>1</th>\n",
       "      <td>1477685</td>\n",
       "      <td>358141</td>\n",
       "      <td>Blue Ribbon Sushi Izakaya</td>\n",
       "      <td>Japanese</td>\n",
       "      <td>12.08</td>\n",
       "      <td>Weekend</td>\n",
       "      <td>Not given</td>\n",
       "      <td>25</td>\n",
       "      <td>23</td>\n",
       "    </tr>\n",
       "    <tr>\n",
       "      <th>2</th>\n",
       "      <td>1477070</td>\n",
       "      <td>66393</td>\n",
       "      <td>Cafe Habana</td>\n",
       "      <td>Mexican</td>\n",
       "      <td>12.23</td>\n",
       "      <td>Weekday</td>\n",
       "      <td>5</td>\n",
       "      <td>23</td>\n",
       "      <td>28</td>\n",
       "    </tr>\n",
       "    <tr>\n",
       "      <th>3</th>\n",
       "      <td>1477334</td>\n",
       "      <td>106968</td>\n",
       "      <td>Blue Ribbon Fried Chicken</td>\n",
       "      <td>American</td>\n",
       "      <td>29.20</td>\n",
       "      <td>Weekend</td>\n",
       "      <td>3</td>\n",
       "      <td>25</td>\n",
       "      <td>15</td>\n",
       "    </tr>\n",
       "    <tr>\n",
       "      <th>4</th>\n",
       "      <td>1478249</td>\n",
       "      <td>76942</td>\n",
       "      <td>Dirty Bird to Go</td>\n",
       "      <td>American</td>\n",
       "      <td>11.59</td>\n",
       "      <td>Weekday</td>\n",
       "      <td>4</td>\n",
       "      <td>25</td>\n",
       "      <td>24</td>\n",
       "    </tr>\n",
       "  </tbody>\n",
       "</table>\n",
       "</div>"
      ],
      "text/plain": [
       "   order_id  customer_id            restaurant_name cuisine_type  \\\n",
       "0   1477147       337525                    Hangawi       Korean   \n",
       "1   1477685       358141  Blue Ribbon Sushi Izakaya     Japanese   \n",
       "2   1477070        66393                Cafe Habana      Mexican   \n",
       "3   1477334       106968  Blue Ribbon Fried Chicken     American   \n",
       "4   1478249        76942           Dirty Bird to Go     American   \n",
       "\n",
       "   cost_of_the_order day_of_the_week     rating  food_preparation_time  \\\n",
       "0              30.75         Weekend  Not given                     25   \n",
       "1              12.08         Weekend  Not given                     25   \n",
       "2              12.23         Weekday          5                     23   \n",
       "3              29.20         Weekend          3                     25   \n",
       "4              11.59         Weekday          4                     25   \n",
       "\n",
       "   delivery_time  \n",
       "0             20  \n",
       "1             23  \n",
       "2             28  \n",
       "3             15  \n",
       "4             24  "
      ]
     },
     "execution_count": 3,
     "metadata": {},
     "output_type": "execute_result"
    }
   ],
   "source": [
    "# read the data\n",
    "df = pd.read_csv('foodhub_order.csv')\n",
    "# returns the first 5 rows\n",
    "df.head()\n"
   ]
  },
  {
   "cell_type": "markdown",
   "metadata": {
    "id": "J_Y9aJDJJY_P"
   },
   "source": [
    "#### Observations:\n",
    "\n",
    "The DataFrame has 9 columns as mentioned in the Data Dictionary. Data in each row corresponds to the order placed by a customer."
   ]
  },
  {
   "cell_type": "markdown",
   "metadata": {
    "id": "c3kenV4vJY_Q"
   },
   "source": [
    "### **Question 1:** How many rows and columns are present in the data? [0.5 mark]"
   ]
  },
  {
   "cell_type": "code",
   "execution_count": 4,
   "metadata": {},
   "outputs": [
    {
     "data": {
      "text/plain": [
       "1351"
      ]
     },
     "execution_count": 4,
     "metadata": {},
     "output_type": "execute_result"
    }
   ],
   "source": [
    "len(df[df['day_of_the_week']=='Weekend'])"
   ]
  },
  {
   "cell_type": "code",
   "execution_count": 5,
   "metadata": {
    "id": "Yvz5i-PhJY_Q"
   },
   "outputs": [
    {
     "data": {
      "text/plain": [
       "(1898, 9)"
      ]
     },
     "execution_count": 5,
     "metadata": {},
     "output_type": "execute_result"
    }
   ],
   "source": [
    "# get the dimension of the dataset\n",
    "df.shape"
   ]
  },
  {
   "cell_type": "markdown",
   "metadata": {
    "id": "UsTNy3unJY_R"
   },
   "source": [
    "#### Observations:\n",
    "1899 rows and 9 columns are present in the data"
   ]
  },
  {
   "cell_type": "markdown",
   "metadata": {
    "id": "jRXakVrUJY_R"
   },
   "source": [
    "### **Question 2:** What are the datatypes of the different columns in the dataset? (The info() function can be used) [0.5 mark]"
   ]
  },
  {
   "cell_type": "code",
   "execution_count": 6,
   "metadata": {
    "id": "Kp70Z0BNJY_R"
   },
   "outputs": [
    {
     "name": "stdout",
     "output_type": "stream",
     "text": [
      "<class 'pandas.core.frame.DataFrame'>\n",
      "RangeIndex: 1898 entries, 0 to 1897\n",
      "Data columns (total 9 columns):\n",
      " #   Column                 Non-Null Count  Dtype  \n",
      "---  ------                 --------------  -----  \n",
      " 0   order_id               1898 non-null   int64  \n",
      " 1   customer_id            1898 non-null   int64  \n",
      " 2   restaurant_name        1898 non-null   object \n",
      " 3   cuisine_type           1898 non-null   object \n",
      " 4   cost_of_the_order      1898 non-null   float64\n",
      " 5   day_of_the_week        1898 non-null   object \n",
      " 6   rating                 1898 non-null   object \n",
      " 7   food_preparation_time  1898 non-null   int64  \n",
      " 8   delivery_time          1898 non-null   int64  \n",
      "dtypes: float64(1), int64(4), object(4)\n",
      "memory usage: 133.6+ KB\n"
     ]
    }
   ],
   "source": [
    "#provides information about the DataFrame \n",
    "df.info()"
   ]
  },
  {
   "cell_type": "markdown",
   "metadata": {
    "id": "WJes5GP2JY_S"
   },
   "source": [
    "#### Observations:\n",
    "The datatypes present are: int64, object and float64\n",
    "\n",
    "* The data contains three different data types: int64, float64, and object, representing integer and float numerical variables, and categorical variables, respectively.<br>\n",
    "* There are five numerical columns in the data: order_id, customer_id, cost_of_the_order, food_preparation_time, and delivery_time.<br>\n",
    "* The remaining columns in the data are categorical variables: restaurant_name, cuisine_type, day_of_the_week, and rating.<br>\n",
    "* Interestingly, rating is a categorical variable in this dataset, which suggests that there might be some non-numerical entries or other issues with the data in this column.<br>"
   ]
  },
  {
   "cell_type": "markdown",
   "metadata": {
    "id": "pF_92MN6JY_S"
   },
   "source": [
    "### **Question 3:** Are there any missing values in the data? If yes, treat them using an appropriate method. [1 mark]"
   ]
  },
  {
   "cell_type": "code",
   "execution_count": 7,
   "metadata": {
    "id": "Zth-RR1PJY_S"
   },
   "outputs": [
    {
     "data": {
      "text/plain": [
       "False"
      ]
     },
     "execution_count": 7,
     "metadata": {},
     "output_type": "execute_result"
    }
   ],
   "source": [
    "#checks whether the DataFrame contains any missing values\n",
    "df.isnull().values.any()"
   ]
  },
  {
   "cell_type": "code",
   "execution_count": 8,
   "metadata": {},
   "outputs": [
    {
     "data": {
      "text/plain": [
       "Not given    0.387777\n",
       "5            0.309800\n",
       "4            0.203372\n",
       "3            0.099052\n",
       "Name: rating, dtype: float64"
      ]
     },
     "execution_count": 8,
     "metadata": {},
     "output_type": "execute_result"
    }
   ],
   "source": [
    "# Checking the missing values further\n",
    "df.rating.value_counts(normalize = True, dropna = False)"
   ]
  },
  {
   "cell_type": "markdown",
   "metadata": {
    "id": "jDHT3vD1JY_S"
   },
   "source": [
    "#### Observations:\n",
    "* The **Missing value(s)** is/are any **particular cell(s)** in the dataset which is/are **blank** i.e. the information is missing. \n",
    "\n",
    "* The output of the above code (False) implies that **there are no missing values in the data**.<br>\n",
    "* The percentage of Not given values is close to the percentage of the rating '5' category.<br>\n",
    "We can treat the Not given values as a separate category for this variable."
   ]
  },
  {
   "cell_type": "markdown",
   "metadata": {
    "id": "MnJo7MWrJY_S"
   },
   "source": [
    "### **Question 4:** Check the statistical summary of the data. What is the minimum, average, and maximum time it takes for food to be prepared once an order is placed? [2 marks]"
   ]
  },
  {
   "cell_type": "code",
   "execution_count": 9,
   "metadata": {
    "id": "WprQBgOSJY_T"
   },
   "outputs": [
    {
     "data": {
      "text/html": [
       "<div>\n",
       "<style scoped>\n",
       "    .dataframe tbody tr th:only-of-type {\n",
       "        vertical-align: middle;\n",
       "    }\n",
       "\n",
       "    .dataframe tbody tr th {\n",
       "        vertical-align: top;\n",
       "    }\n",
       "\n",
       "    .dataframe thead th {\n",
       "        text-align: right;\n",
       "    }\n",
       "</style>\n",
       "<table border=\"1\" class=\"dataframe\">\n",
       "  <thead>\n",
       "    <tr style=\"text-align: right;\">\n",
       "      <th></th>\n",
       "      <th>order_id</th>\n",
       "      <th>customer_id</th>\n",
       "      <th>cost_of_the_order</th>\n",
       "      <th>food_preparation_time</th>\n",
       "      <th>delivery_time</th>\n",
       "    </tr>\n",
       "  </thead>\n",
       "  <tbody>\n",
       "    <tr>\n",
       "      <th>count</th>\n",
       "      <td>1.898000e+03</td>\n",
       "      <td>1898.000000</td>\n",
       "      <td>1898.000000</td>\n",
       "      <td>1898.000000</td>\n",
       "      <td>1898.000000</td>\n",
       "    </tr>\n",
       "    <tr>\n",
       "      <th>mean</th>\n",
       "      <td>1.477496e+06</td>\n",
       "      <td>171168.478398</td>\n",
       "      <td>16.498851</td>\n",
       "      <td>27.371970</td>\n",
       "      <td>24.161749</td>\n",
       "    </tr>\n",
       "    <tr>\n",
       "      <th>std</th>\n",
       "      <td>5.480497e+02</td>\n",
       "      <td>113698.139743</td>\n",
       "      <td>7.483812</td>\n",
       "      <td>4.632481</td>\n",
       "      <td>4.972637</td>\n",
       "    </tr>\n",
       "    <tr>\n",
       "      <th>min</th>\n",
       "      <td>1.476547e+06</td>\n",
       "      <td>1311.000000</td>\n",
       "      <td>4.470000</td>\n",
       "      <td>20.000000</td>\n",
       "      <td>15.000000</td>\n",
       "    </tr>\n",
       "    <tr>\n",
       "      <th>25%</th>\n",
       "      <td>1.477021e+06</td>\n",
       "      <td>77787.750000</td>\n",
       "      <td>12.080000</td>\n",
       "      <td>23.000000</td>\n",
       "      <td>20.000000</td>\n",
       "    </tr>\n",
       "    <tr>\n",
       "      <th>50%</th>\n",
       "      <td>1.477496e+06</td>\n",
       "      <td>128600.000000</td>\n",
       "      <td>14.140000</td>\n",
       "      <td>27.000000</td>\n",
       "      <td>25.000000</td>\n",
       "    </tr>\n",
       "    <tr>\n",
       "      <th>75%</th>\n",
       "      <td>1.477970e+06</td>\n",
       "      <td>270525.000000</td>\n",
       "      <td>22.297500</td>\n",
       "      <td>31.000000</td>\n",
       "      <td>28.000000</td>\n",
       "    </tr>\n",
       "    <tr>\n",
       "      <th>max</th>\n",
       "      <td>1.478444e+06</td>\n",
       "      <td>405334.000000</td>\n",
       "      <td>35.410000</td>\n",
       "      <td>35.000000</td>\n",
       "      <td>33.000000</td>\n",
       "    </tr>\n",
       "  </tbody>\n",
       "</table>\n",
       "</div>"
      ],
      "text/plain": [
       "           order_id    customer_id  cost_of_the_order  food_preparation_time  \\\n",
       "count  1.898000e+03    1898.000000        1898.000000            1898.000000   \n",
       "mean   1.477496e+06  171168.478398          16.498851              27.371970   \n",
       "std    5.480497e+02  113698.139743           7.483812               4.632481   \n",
       "min    1.476547e+06    1311.000000           4.470000              20.000000   \n",
       "25%    1.477021e+06   77787.750000          12.080000              23.000000   \n",
       "50%    1.477496e+06  128600.000000          14.140000              27.000000   \n",
       "75%    1.477970e+06  270525.000000          22.297500              31.000000   \n",
       "max    1.478444e+06  405334.000000          35.410000              35.000000   \n",
       "\n",
       "       delivery_time  \n",
       "count    1898.000000  \n",
       "mean       24.161749  \n",
       "std         4.972637  \n",
       "min        15.000000  \n",
       "25%        20.000000  \n",
       "50%        25.000000  \n",
       "75%        28.000000  \n",
       "max        33.000000  "
      ]
     },
     "execution_count": 9,
     "metadata": {},
     "output_type": "execute_result"
    }
   ],
   "source": [
    "# provides a statistical summary of the DataFrame\n",
    "df.describe()"
   ]
  },
  {
   "cell_type": "markdown",
   "metadata": {
    "id": "9YbSOR5wJY_T"
   },
   "source": [
    "#### Observations:\n",
    "Based on these statistics, we can see that the orders range in cost from 4.47 to 35.41 dollars, take between 20 and 35 minutes to be prepared, and take between 15 and 33 minutes to be delivered. The mean cost of an order is 16.50 dollars, the mean food preparation time is 27.37 minutes, and the mean delivery time is 24.16 minutes. The standard deviation of the cost, food preparation time, and delivery time columns indicate how much variation there is in those values across the dataset."
   ]
  },
  {
   "cell_type": "markdown",
   "metadata": {
    "id": "cw3l58z_JY_T"
   },
   "source": [
    "### **Question 5:** How many orders are not rated? [1 mark]"
   ]
  },
  {
   "cell_type": "code",
   "execution_count": 10,
   "metadata": {
    "id": "hEzDUL9wgksi"
   },
   "outputs": [
    {
     "data": {
      "text/plain": [
       "array(['Not given', '5', '3', '4'], dtype=object)"
      ]
     },
     "execution_count": 10,
     "metadata": {},
     "output_type": "execute_result"
    }
   ],
   "source": [
    "# returns an array of unique values in the 'rating' column of the DataFrame \n",
    "df.rating.unique()"
   ]
  },
  {
   "cell_type": "code",
   "execution_count": 11,
   "metadata": {},
   "outputs": [
    {
     "data": {
      "text/plain": [
       "736"
      ]
     },
     "execution_count": 11,
     "metadata": {},
     "output_type": "execute_result"
    }
   ],
   "source": [
    "len(df[df.rating=='Not given'])"
   ]
  },
  {
   "cell_type": "markdown",
   "metadata": {
    "id": "5E0O_oviJY_T"
   },
   "source": [
    "#### Observations:\n",
    "* There are four unique values in rating which are: Not given, 5, 3, 4.<br> \n",
    "* However, there are 736 orders that are not rated having the 'Not given' label."
   ]
  },
  {
   "cell_type": "markdown",
   "metadata": {
    "id": "7msIfXE-JY_T"
   },
   "source": [
    "### Exploratory Data Analysis (EDA)"
   ]
  },
  {
   "cell_type": "markdown",
   "metadata": {
    "id": "-2xfI28YJY_T"
   },
   "source": [
    "### Univariate Analysis"
   ]
  },
  {
   "cell_type": "markdown",
   "metadata": {
    "id": "0RHZnugBJY_U"
   },
   "source": [
    "### **Question 6:** Explore all the variables and provide observations on their distributions. (Generally, histograms, boxplots, countplots, etc. are used for univariate exploration.) [5 marks]"
   ]
  },
  {
   "cell_type": "code",
   "execution_count": 12,
   "metadata": {
    "id": "rU5ZqISjJY_U"
   },
   "outputs": [],
   "source": [
    "from matplotlib.ticker import MultipleLocator\n",
    "\n",
    "def histogram_boxplot(feature, figsize=(15, 10), bins=\"auto\"):\n",
    "    \"\"\" Boxplot and histogram combined\n",
    "    feature: 1-d feature array\n",
    "    figsize: size of fig (default (15, 10))\n",
    "    bins: number of bins (default \"auto\")\n",
    "    \"\"\"\n",
    "    f, (ax_box, ax_hist) = plt.subplots(\n",
    "        nrows=2,  # Number of rows of the subplot grid\n",
    "        sharex=True,  # The X-axis will be shared among all the subplots\n",
    "        gridspec_kw={\"height_ratios\": (.25, .75)},\n",
    "        figsize=figsize\n",
    "    )\n",
    "\n",
    "    # Creating the subplots\n",
    "    # Boxplot will be created and the mean value of the column will be indicated using some symbol\n",
    "    sns.boxplot(x=feature, ax=ax_box, showmeans=True, color='red', showfliers=True)\n",
    "       \n",
    "    # For histogram\n",
    "    sns.histplot(x=feature, kde=True, ax=ax_hist, bins=bins)\n",
    "    ax_hist.axvline(np.mean(feature), color='g', linestyle='--')      # Add mean to the histogram\n",
    "    ax_hist.axvline(np.median(feature), color='black', linestyle='-') # Add median to the histogram\n",
    "    tick_interval = 1  # You can change this value to set the desired interval between ticks\n",
    "    ax_box.xaxis.set_major_locator(MultipleLocator(tick_interval))\n",
    "\n",
    "    \n",
    "    plt.show()"
   ]
  },
  {
   "cell_type": "markdown",
   "metadata": {},
   "source": [
    "### Observations on cost of the order"
   ]
  },
  {
   "cell_type": "code",
   "execution_count": 13,
   "metadata": {},
   "outputs": [
    {
     "data": {
      "image/png": "[encoded data removed]",
      "text/plain": [
       "<Figure size 1080x720 with 2 Axes>"
      ]
     },
     "metadata": {
      "needs_background": "light"
     },
     "output_type": "display_data"
    }
   ],
   "source": [
    "histogram_boxplot(df.cost_of_the_order)"
   ]
  },
  {
   "cell_type": "markdown",
   "metadata": {},
   "source": [
    "**Observations:**\n",
    "* The data for the cost_of_the_order variable appears to be right-skewed, indicating that there are some high-cost orders in the dataset.\n",
    "* The majority of the orders fall within the range of 11 to 12.58 dollars.\n",
    "* The median cost of the order is approximately 14 dollars, which is lower than the mean value of around 16.5 dollars. This suggests that there might be some high-cost orders that are driving up the mean value.\n",
    "* There do not appear to be any outliers in the cost_of_the_order variable, which suggests that the data is relatively consistent and reliable."
   ]
  },
  {
   "cell_type": "markdown",
   "metadata": {},
   "source": [
    "### Observations on food preparation time"
   ]
  },
  {
   "cell_type": "code",
   "execution_count": 14,
   "metadata": {},
   "outputs": [
    {
     "data": {
      "image/png": "[encoded data removed]",
      "text/plain": [
       "<Figure size 1080x720 with 2 Axes>"
      ]
     },
     "metadata": {
      "needs_background": "light"
     },
     "output_type": "display_data"
    }
   ],
   "source": [
    "histogram_boxplot(df.food_preparation_time)"
   ]
  },
  {
   "cell_type": "markdown",
   "metadata": {},
   "source": [
    "**Observations:**\n",
    "* The mean value for the food_preparation_time variable is 27.37 minutes, which is only slightly greater than the median value of 27 minutes. This suggests that the distribution of food preparation times is uniform and has negligible right-skewness.\n",
    "* The majority of the meals take between 20 to 21.05 minutes to be prepared.\n",
    "* The minimum time for food preparation is 20 minutes, while the maximum time is 35 minutes. This suggests that the range of food preparation times is relatively narrow.\n",
    "* There is a relatively uniform count of food preparation times across the dataset, with most counts falling between 110 to 120, and only a few occurrences of counts around 220 to 250. This suggests that there is a roughly equal number of people who prefer fast food (which takes less time to prepare) and those who prefer a well-prepared meal (which takes more time).\n",
    "* There do not appear to be any outliers in the food_preparation_time variable, which suggests that the data is relatively consistent and reliable."
   ]
  },
  {
   "cell_type": "markdown",
   "metadata": {},
   "source": [
    "### Observations on Delivery time"
   ]
  },
  {
   "cell_type": "code",
   "execution_count": 15,
   "metadata": {},
   "outputs": [
    {
     "data": {
      "image/png": "[encoded data removed]",
      "text/plain": [
       "<Figure size 1080x720 with 2 Axes>"
      ]
     },
     "metadata": {
      "needs_background": "light"
     },
     "output_type": "display_data"
    }
   ],
   "source": [
    "histogram_boxplot(df.delivery_time)"
   ]
  },
  {
   "cell_type": "markdown",
   "metadata": {},
   "source": [
    "**Observations:**\n",
    "* The median value for the delivery_time variable is 25, which is greater than the mean value of around 24. This suggests that the distribution of delivery times is left-skewed.\n",
    "* The average delivery time is approximately 24 minutes.\n",
    "* The majority of the delivery times fall within the range of 28 to 29 minutes.\n",
    "* The minimum delivery time is 15 minutes, while the maximum delivery time is 33 minutes. This suggests that the range of delivery times is relatively narrow.\n",
    "* There do not appear to be any outliers in the delivery_time variable, which suggests that the data is relatively consistent and reliable.\n",
    "\n",
    "\n",
    "\n",
    "\n"
   ]
  },
  {
   "cell_type": "markdown",
   "metadata": {},
   "source": [
    "**Categorical variables**"
   ]
  },
  {
   "cell_type": "code",
   "execution_count": 16,
   "metadata": {},
   "outputs": [],
   "source": [
    "def bar_perc(data, z):\n",
    "    total = len(data[z]) # Length of the column\n",
    "    plt.figure(figsize = (15, 5))\n",
    "    plt.xticks(rotation=45)\n",
    "    \n",
    "#     Convert the column to a categorical data type\n",
    "    data[z] = data[z].astype('category')\n",
    "    \n",
    "    ax = sns.countplot(x=z, data=data, palette='Paired', order=data[z].value_counts().index)\n",
    "    \n",
    "    for p in ax.patches:\n",
    "        percentage = '{:.1f}%'.format(100 * p.get_height() / total) # Percentage of each class\n",
    "        x = p.get_x() + p.get_width() / 2 - 0.05                    # Width of the plot\n",
    "        y = p.get_y() + p.get_height()                              # Height of the plot\n",
    "        ax.annotate(percentage, (x, y), size = 12)                  # Annotate the percentage \n",
    "        \n",
    "    plt.show()                                                      # Display the plot"
   ]
  },
  {
   "cell_type": "code",
   "execution_count": 17,
   "metadata": {},
   "outputs": [
    {
     "data": {
      "image/png": "[encoded data removed]",
      "text/plain": [
       "<Figure size 1080x360 with 1 Axes>"
      ]
     },
     "metadata": {
      "needs_background": "light"
     },
     "output_type": "display_data"
    }
   ],
   "source": [
    "bar_perc(df, 'day_of_the_week')"
   ]
  },
  {
   "cell_type": "markdown",
   "metadata": {},
   "source": [
    "**Observations:**\n",
    "* There are two categories of weekdays: Weekend and Weekday.\n",
    "* 71.2% of orders were made on weekends while 28.8% were made during weekdays. "
   ]
  },
  {
   "cell_type": "code",
   "execution_count": 18,
   "metadata": {},
   "outputs": [
    {
     "data": {
      "image/png": "[encoded data removed]",
      "text/plain": [
       "<Figure size 1080x360 with 1 Axes>"
      ]
     },
     "metadata": {
      "needs_background": "light"
     },
     "output_type": "display_data"
    }
   ],
   "source": [
    "bar_perc(df, 'cuisine_type')"
   ]
  },
  {
   "cell_type": "markdown",
   "metadata": {},
   "source": [
    "**Observations**\n",
    "* There are 14 cuisine types in the dataset.\n",
    "* American cuisine (30.8%) followed by Japanese cuisine (24.8%) are the most frequently ordered, accounting for more than 50% of all cuisine types. It is expected that American cuisine is the most commonly ordered, given that the study location is New York. However, this also indicates a diverse range of food menus available in New York, reflecting the intercultural diversity of the city."
   ]
  },
  {
   "cell_type": "code",
   "execution_count": 19,
   "metadata": {},
   "outputs": [
    {
     "data": {
      "image/png": "[encoded data removed]",
      "text/plain": [
       "<Figure size 1080x360 with 1 Axes>"
      ]
     },
     "metadata": {
      "needs_background": "light"
     },
     "output_type": "display_data"
    }
   ],
   "source": [
    "bar_perc(df, 'rating')"
   ]
  },
  {
   "cell_type": "markdown",
   "metadata": {},
   "source": [
    "**Observation**\n",
    "* The distribution of ratings in the dataset shows that 38.8% of the entries have a 'Not given' rating, while 31.0% have a rating of 5, 20.3% have a rating of 4, and 9.9% have a rating of 3.\n",
    "* The Not given(38.8%), is significant and can not be dropped.\n",
    "* The percentage of Not given is close to the percentage of some labels from ratings.\n",
    "* We can treat the Not given values as a separate category for this variable."
   ]
  },
  {
   "cell_type": "markdown",
   "metadata": {
    "id": "K9CqA5H_JY_U"
   },
   "source": [
    "### **Question 7**: Which are the top 5 restaurants in terms of the number of orders received? [1 mark]"
   ]
  },
  {
   "cell_type": "code",
   "execution_count": 20,
   "metadata": {
    "id": "PaJZ3wlOJY_U"
   },
   "outputs": [
    {
     "data": {
      "text/html": [
       "<div>\n",
       "<style scoped>\n",
       "    .dataframe tbody tr th:only-of-type {\n",
       "        vertical-align: middle;\n",
       "    }\n",
       "\n",
       "    .dataframe tbody tr th {\n",
       "        vertical-align: top;\n",
       "    }\n",
       "\n",
       "    .dataframe thead th {\n",
       "        text-align: right;\n",
       "    }\n",
       "</style>\n",
       "<table border=\"1\" class=\"dataframe\">\n",
       "  <thead>\n",
       "    <tr style=\"text-align: right;\">\n",
       "      <th></th>\n",
       "      <th>restaurant_name</th>\n",
       "      <th>number of orders</th>\n",
       "    </tr>\n",
       "  </thead>\n",
       "  <tbody>\n",
       "    <tr>\n",
       "      <th>0</th>\n",
       "      <td>Shake Shack</td>\n",
       "      <td>219</td>\n",
       "    </tr>\n",
       "    <tr>\n",
       "      <th>1</th>\n",
       "      <td>The Meatball Shop</td>\n",
       "      <td>132</td>\n",
       "    </tr>\n",
       "    <tr>\n",
       "      <th>2</th>\n",
       "      <td>Blue Ribbon Sushi</td>\n",
       "      <td>119</td>\n",
       "    </tr>\n",
       "    <tr>\n",
       "      <th>3</th>\n",
       "      <td>Blue Ribbon Fried Chicken</td>\n",
       "      <td>96</td>\n",
       "    </tr>\n",
       "    <tr>\n",
       "      <th>4</th>\n",
       "      <td>Parm</td>\n",
       "      <td>68</td>\n",
       "    </tr>\n",
       "  </tbody>\n",
       "</table>\n",
       "</div>"
      ],
      "text/plain": [
       "             restaurant_name  number of orders\n",
       "0                Shake Shack               219\n",
       "1          The Meatball Shop               132\n",
       "2          Blue Ribbon Sushi               119\n",
       "3  Blue Ribbon Fried Chicken                96\n",
       "4                       Parm                68"
      ]
     },
     "execution_count": 20,
     "metadata": {},
     "output_type": "execute_result"
    }
   ],
   "source": [
    "df.restaurant_name.value_counts().head().reset_index().rename(columns \n",
    "                                        = {'index':'restaurant_name',\n",
    "                                        'restaurant_name':'number of orders'})"
   ]
  },
  {
   "cell_type": "markdown",
   "metadata": {
    "id": "tnjhWgUfJY_U"
   },
   "source": [
    "#### Observations:\n",
    "* Shake Shack received the highest number of orders (219), followed by The Meatball Shop (132), Blue Ribbon Sushi (119), Blue Ribbon Fried Chicken (96), and Parm (68).\n",
    "* It is worth noting that these numbers may not reflect the quality or popularity of the restaurants, as other factors such as location, marketing, and pricing can also influence the number of orders received.\n",
    "* However, this information can be useful for understanding which restaurants are more in demand and for making data-driven decisions related to supply chain management, inventory, and staffing."
   ]
  },
  {
   "cell_type": "markdown",
   "metadata": {
    "id": "gWPMqGq0JY_U"
   },
   "source": [
    "### **Question 8**: Which is the most popular cuisine on weekends? [1 mark]"
   ]
  },
  {
   "cell_type": "code",
   "execution_count": 21,
   "metadata": {},
   "outputs": [
    {
     "name": "stdout",
     "output_type": "stream",
     "text": [
      "The most popular cuisine on weekends is: American\n"
     ]
    }
   ],
   "source": [
    "# Select only the rows where the day_of_the_week column is 'Weekend',\n",
    "# and the columns 'cuisine_type' and 'day_of_the_week'.\n",
    "cuisine = df[df['day_of_the_week'] == 'Weekend'][['cuisine_type','day_of_the_week']]\n",
    "\n",
    "# Calculate the mode of the 'cuisine_type' column in the 'cuisine' DataFrame,\n",
    "# which represents the most frequently occurring cuisine type on weekends.\n",
    "most_popular_cuisine = cuisine['cuisine_type'].mode()\n",
    "\n",
    "# Check if there is a mode for the cuisine type on weekends.\n",
    "# If there is, print out the most popular cuisine type.\n",
    "# If there is no mode, print out a message indicating so.\n",
    "if len(most_popular_cuisine) > 0:\n",
    "    print('The most popular cuisine on weekends is:', most_popular_cuisine[0])\n",
    "else:\n",
    "    print('There is no mode for the cuisine type on weekends.')\n"
   ]
  },
  {
   "cell_type": "markdown",
   "metadata": {
    "id": "bpQ270TUJY_U"
   },
   "source": [
    "#### Observations:\n",
    "The most popular cuisine on weekends is: American"
   ]
  },
  {
   "cell_type": "markdown",
   "metadata": {
    "id": "88xgTqkxJY_U"
   },
   "source": [
    "### **Question 9**: What percentage of the orders cost more than 20 dollars? [1 marks]"
   ]
  },
  {
   "cell_type": "code",
   "execution_count": 22,
   "metadata": {},
   "outputs": [
    {
     "data": {
      "text/plain": [
       "29.24130663856691"
      ]
     },
     "execution_count": 22,
     "metadata": {},
     "output_type": "execute_result"
    }
   ],
   "source": [
    "# Convert the 'cost_of_the_order' column to a float and create a new DataFrame 'd'\n",
    "# that only contains the cost values and their indices.\n",
    "d = df['cost_of_the_order'].astype('float').reset_index().drop(['index'], axis = 1)\n",
    "\n",
    "# Select only the rows where the cost is greater than 20 dollars.\n",
    "d = d[d['cost_of_the_order']>20]\n",
    "\n",
    "# Calculate the length of the resulting DataFrame 'd' and the original DataFrame 'df'.\n",
    "len_d = len(d)\n",
    "len_df = len(df.cost_of_the_order)\n",
    "\n",
    "# Compute the percentage of orders with a cost greater than 20 dollars.\n",
    "perc = (len_d/len_df) * 100\n",
    "perc"
   ]
  },
  {
   "cell_type": "markdown",
   "metadata": {
    "id": "77KNAC5zJY_U"
   },
   "source": [
    "#### Observations:\n",
    "Approximately 29 percentage of the orders cost more than 20 dollars"
   ]
  },
  {
   "cell_type": "markdown",
   "metadata": {
    "id": "HFyHn7hsJY_V"
   },
   "source": [
    "### **Question 10**: What is the mean order delivery time? [1 mark]"
   ]
  },
  {
   "cell_type": "code",
   "execution_count": 23,
   "metadata": {
    "id": "cyFL13hNJY_V"
   },
   "outputs": [
    {
     "data": {
      "text/plain": [
       "24.161749209694417"
      ]
     },
     "execution_count": 23,
     "metadata": {},
     "output_type": "execute_result"
    }
   ],
   "source": [
    "# finds the mean\n",
    "df.delivery_time.mean()"
   ]
  },
  {
   "cell_type": "markdown",
   "metadata": {
    "id": "F35SRV-HJY_V"
   },
   "source": [
    "#### Observations:\n",
    "24.16 minutes is the mean order delivery time"
   ]
  },
  {
   "cell_type": "markdown",
   "metadata": {
    "id": "48IjaOuDJY_V"
   },
   "source": [
    "### **Question 11:** The company has decided to give 20% discount vouchers to the top 3 most frequent customers. Find the IDs of these customers and the number of orders they placed. [1 mark]"
   ]
  },
  {
   "cell_type": "code",
   "execution_count": 24,
   "metadata": {},
   "outputs": [
    {
     "data": {
      "text/html": [
       "<div>\n",
       "<style scoped>\n",
       "    .dataframe tbody tr th:only-of-type {\n",
       "        vertical-align: middle;\n",
       "    }\n",
       "\n",
       "    .dataframe tbody tr th {\n",
       "        vertical-align: top;\n",
       "    }\n",
       "\n",
       "    .dataframe thead th {\n",
       "        text-align: right;\n",
       "    }\n",
       "</style>\n",
       "<table border=\"1\" class=\"dataframe\">\n",
       "  <thead>\n",
       "    <tr style=\"text-align: right;\">\n",
       "      <th></th>\n",
       "      <th>customer_id</th>\n",
       "      <th>number_of_orders</th>\n",
       "    </tr>\n",
       "  </thead>\n",
       "  <tbody>\n",
       "    <tr>\n",
       "      <th>0</th>\n",
       "      <td>52832</td>\n",
       "      <td>13</td>\n",
       "    </tr>\n",
       "    <tr>\n",
       "      <th>1</th>\n",
       "      <td>47440</td>\n",
       "      <td>10</td>\n",
       "    </tr>\n",
       "    <tr>\n",
       "      <th>2</th>\n",
       "      <td>83287</td>\n",
       "      <td>9</td>\n",
       "    </tr>\n",
       "  </tbody>\n",
       "</table>\n",
       "</div>"
      ],
      "text/plain": [
       "   customer_id  number_of_orders\n",
       "0        52832                13\n",
       "1        47440                10\n",
       "2        83287                 9"
      ]
     },
     "execution_count": 24,
     "metadata": {},
     "output_type": "execute_result"
    }
   ],
   "source": [
    "# Count the number of orders for each customer and select the top 3 customers.\n",
    "\n",
    "top_customers = df.customer_id.value_counts().head(3)\n",
    "\n",
    "# Convert the resulting Series to a DataFrame, reset the index,\n",
    "# and rename the columns to match the output format.\n",
    "result_df = top_customers.reset_index().rename(columns={'index':'customer_id',\n",
    "                                                        'customer_id':'number_of_orders'})\n",
    "result_df"
   ]
  },
  {
   "cell_type": "markdown",
   "metadata": {
    "id": "9tWVwfX6JY_V"
   },
   "source": [
    "#### Observations:\n",
    "The top 3 most frequent customers are with id(s): 52832, 47440, 83287.<br>\n",
    "customer 52832 has 13 orders, customer 47440 has 10 orders  and customer 83287 has 9 orders."
   ]
  },
  {
   "cell_type": "markdown",
   "metadata": {
    "id": "iqiS0RT_JY_V"
   },
   "source": [
    "### **Question 12**: Perform a multivariate analysis to explore relationships between the important variables in the dataset. (It is a good idea to explore relations between numerical variables as well as relations between numerical and categorical variables) [5 marks]\n"
   ]
  },
  {
   "cell_type": "markdown",
   "metadata": {
    "id": "AfIc2jPaJY_V"
   },
   "source": [
    "### Multivariate analysis between numerical variables"
   ]
  },
  {
   "cell_type": "markdown",
   "metadata": {},
   "source": [
    "### Correlation"
   ]
  },
  {
   "cell_type": "code",
   "execution_count": 25,
   "metadata": {
    "id": "3qt4MCNTJY_V"
   },
   "outputs": [
    {
     "data": {
      "text/plain": [
       "<AxesSubplot:>"
      ]
     },
     "execution_count": 25,
     "metadata": {},
     "output_type": "execute_result"
    },
    {
     "data": {
      "image/png": "[encoded data removed]",
      "text/plain": [
       "<Figure size 576x432 with 2 Axes>"
      ]
     },
     "metadata": {
      "needs_background": "light"
     },
     "output_type": "display_data"
    }
   ],
   "source": [
    "# Check for correlation among numerical variables\n",
    "num_var = ['order_id', 'customer_id', 'food_preparation_time', 'delivery_time']\n",
    "corr = df[num_var].corr()\n",
    "\n",
    "# Plot the heatmap\n",
    "plt.figure(figsize = (8, 6))\n",
    "sns.heatmap(corr, annot = True, cmap = 'coolwarm',            \n",
    "        fmt = \".1f\",            \n",
    "        xticklabels = corr.columns,            \n",
    "        yticklabels = corr.columns)"
   ]
  },
  {
   "cell_type": "markdown",
   "metadata": {},
   "source": [
    "**Observations**\n",
    "* The order_id and customer_id columns are just unique identifiers and have no relationship with the other columns in the dataset. \n",
    "* Delivery_time and food_preparation_time are not correlated."
   ]
  },
  {
   "cell_type": "markdown",
   "metadata": {},
   "source": [
    "### Line Plots"
   ]
  },
  {
   "cell_type": "markdown",
   "metadata": {},
   "source": [
    "#### Cost of the order across food preparation time"
   ]
  },
  {
   "cell_type": "code",
   "execution_count": 26,
   "metadata": {},
   "outputs": [
    {
     "data": {
      "text/plain": [
       "Text(0.5, 1.0, 'Mean cost of orders')"
      ]
     },
     "execution_count": 26,
     "metadata": {},
     "output_type": "execute_result"
    },
    {
     "data": {
      "image/png": "[encoded data removed]",
      "text/plain": [
       "<Figure size 864x288 with 2 Axes>"
      ]
     },
     "metadata": {
      "needs_background": "light"
     },
     "output_type": "display_data"
    }
   ],
   "source": [
    "f, (ax_sum, ax_mean) = plt.subplots(ncols=2, gridspec_kw={\"width_ratios\": (0.5,0.5)},\n",
    "        figsize=(12,4))\n",
    "\n",
    "sns.lineplot(x = \"food_preparation_time\", y = \"cost_of_the_order\", \n",
    "             data = df, ax = ax_sum, ci = 0, color = \"RED\", estimator = 'sum')\n",
    "ax_sum.set_title('Total cost of orders')\n",
    "\n",
    "sns.lineplot(x= \"food_preparation_time\", y = \"cost_of_the_order\", \n",
    "             data = df, ax = ax_mean, ci = 0, color = \"RED\", estimator = 'mean')\n",
    "ax_mean.set_title('Mean cost of orders')"
   ]
  },
  {
   "cell_type": "markdown",
   "metadata": {},
   "source": [
    "**Observations**\n",
    "* Using sum as estimator, the overall cost of the order reduces generally with food preparation time\n",
    "* Using mean as estimator, the average cost of the order increases generally with food preparation time"
   ]
  },
  {
   "cell_type": "markdown",
   "metadata": {},
   "source": [
    "#### Delivery time across day of the week"
   ]
  },
  {
   "cell_type": "code",
   "execution_count": 27,
   "metadata": {},
   "outputs": [
    {
     "data": {
      "image/png": "[encoded data removed]",
      "text/plain": [
       "<Figure size 432x288 with 1 Axes>"
      ]
     },
     "metadata": {
      "needs_background": "light"
     },
     "output_type": "display_data"
    }
   ],
   "source": [
    "sns.lineplot(x = \"day_of_the_week\", y = \"delivery_time\", data = df, ci = 0, color = \"RED\", estimator = 'mean')\n",
    "plt.title('Mean Day of the Week Delivery Time')\n",
    "plt.show()"
   ]
  },
  {
   "cell_type": "markdown",
   "metadata": {},
   "source": [
    "**Observations**\n",
    "* Delivery takes longer during weekdays than during weekend"
   ]
  },
  {
   "cell_type": "markdown",
   "metadata": {},
   "source": [
    "### Numerical and Categorical"
   ]
  },
  {
   "cell_type": "markdown",
   "metadata": {},
   "source": [
    "#### Bar Plots"
   ]
  },
  {
   "cell_type": "code",
   "execution_count": 28,
   "metadata": {},
   "outputs": [
    {
     "data": {
      "image/png": "[encoded data removed]",
      "text/plain": [
       "<Figure size 864x576 with 6 Axes>"
      ]
     },
     "metadata": {
      "needs_background": "light"
     },
     "output_type": "display_data"
    }
   ],
   "source": [
    "# Create a 2x3 grid of subplots\n",
    "fig, axes = plt.subplots(nrows=2, ncols=3, figsize=(12, 8))\n",
    "\n",
    "# Create the first bar plot on the top-left subplot\n",
    "sns.barplot(x='rating', y='delivery_time', data=df, ax=axes[0, 0])\n",
    "axes[0, 0].set_title('(a) Delivery Time vs Rating')\n",
    "\n",
    "# Create the second bar plot on the top-middle subplot\n",
    "sns.barplot(x='rating', y='food_preparation_time', data=df, ax=axes[0, 1])\n",
    "axes[0, 1].set_title('(b) Food Preparation Time vs Rating')\n",
    "\n",
    "# Create the third bar plot on the top-right subplot\n",
    "sns.barplot(x='day_of_the_week', y='food_preparation_time', data=df, ax=axes[0, 2])\n",
    "axes[0, 2].set_title('(c) Food Preparation Time vs Day of the Week')\n",
    "\n",
    "# Create the fourth bar plot on the bottom-left subplot\n",
    "sns.barplot(x='day_of_the_week', y='delivery_time', data=df, ax=axes[1, 0])\n",
    "axes[1, 0].set_title('(d)Delivery Time vs Day of the Week')\n",
    "\n",
    "# Create the fifth bar plot on the bottom-middle subplot\n",
    "sns.barplot(x='day_of_the_week', y='cost_of_the_order', data=df, ax=axes[1, 1])\n",
    "axes[1, 1].set_title('(e) Cost of Order vs Day of the Week')\n",
    "\n",
    "# Create the sixth bar plot on the bottom-right subplot\n",
    "sns.barplot(x='rating', y='cost_of_the_order', data=df, ax=axes[1, 2])\n",
    "axes[1, 2].set_title('(f) Cost of Order vs Rating')\n",
    "\n",
    "# Adjust the layout and spacing of the subplots\n",
    "plt.tight_layout()\n",
    "\n",
    "# Display the plot\n",
    "plt.show()\n"
   ]
  },
  {
   "cell_type": "markdown",
   "metadata": {},
   "source": [
    "**Observations**\n",
    "* The data in plot (a) suggests that a shorter delivery time does not necessarily guarantee a higher rating of 5. In fact, across all categories of rating, the delivery time appears to be roughly the same.\n",
    "\n",
    "* The data in plot (b) shows a similar trend to plot (a), in that a shorter food preparation time does not necessarily lead to a higher rating of 5. Again, the food preparation times across all categories of rating are relatively similar.\n",
    "\n",
    "* Plot (c) demonstrates that food preparation times are slightly longer on weekends compared to weekdays.\n",
    "\n",
    "* Plot (d) indicates that delivery times are shorter on weekends than weekdays.\n",
    "\n",
    "* Plot (e) suggests that the cost of an order is slightly higher on weekends than weekdays.\n",
    "\n",
    "* Finally, plot (f) shows that orders with the highest cost tend to have the highest rating."
   ]
  },
  {
   "cell_type": "code",
   "execution_count": 29,
   "metadata": {},
   "outputs": [
    {
     "data": {
      "image/png": "[encoded data removed]",
      "text/plain": [
       "<Figure size 432x288 with 1 Axes>"
      ]
     },
     "metadata": {
      "needs_background": "light"
     },
     "output_type": "display_data"
    }
   ],
   "source": [
    "# Change the rating column to a numeric datatype\n",
    "df['rating'] = pd.to_numeric(df['rating'], errors='coerce')\n",
    "#plot\n",
    "sns.barplot(x=df.rating, y=df.cuisine_type, data=df)\n",
    "plt.show()"
   ]
  },
  {
   "cell_type": "markdown",
   "metadata": {},
   "source": [
    "**Observation**\n",
    "* The data indicates that Spanish cuisine has the highest average rating among the cuisines considered, which is somewhat surprising given that the area being analyzed is New York, where American cuisine might be expected to have a higher rating."
   ]
  },
  {
   "cell_type": "markdown",
   "metadata": {
    "id": "YLkMf09YJY_V"
   },
   "source": [
    "### **Question 13:** The company wants to provide a promotional offer in the advertisement of the restaurants. The condition to get the offer is that the restaurants must have a rating count of more than 50 and the average rating should be greater than 4. Find the restaurants fulfilling the criteria to get the promotional offer. [1.5 marks]"
   ]
  },
  {
   "cell_type": "code",
   "execution_count": 30,
   "metadata": {},
   "outputs": [
    {
     "name": "stdout",
     "output_type": "stream",
     "text": [
      "<class 'pandas.core.frame.DataFrame'>\n",
      "RangeIndex: 1898 entries, 0 to 1897\n",
      "Data columns (total 9 columns):\n",
      " #   Column                 Non-Null Count  Dtype   \n",
      "---  ------                 --------------  -----   \n",
      " 0   order_id               1898 non-null   int64   \n",
      " 1   customer_id            1898 non-null   int64   \n",
      " 2   restaurant_name        1898 non-null   object  \n",
      " 3   cuisine_type           1898 non-null   category\n",
      " 4   cost_of_the_order      1898 non-null   float64 \n",
      " 5   day_of_the_week        1898 non-null   category\n",
      " 6   rating                 1162 non-null   float64 \n",
      " 7   food_preparation_time  1898 non-null   int64   \n",
      " 8   delivery_time          1898 non-null   int64   \n",
      "dtypes: category(2), float64(2), int64(4), object(1)\n",
      "memory usage: 108.4+ KB\n"
     ]
    }
   ],
   "source": [
    "df.info()"
   ]
  },
  {
   "cell_type": "code",
   "execution_count": 31,
   "metadata": {},
   "outputs": [
    {
     "data": {
      "text/plain": [
       "dtype('float64')"
      ]
     },
     "execution_count": 31,
     "metadata": {},
     "output_type": "execute_result"
    }
   ],
   "source": [
    "df['rating'].dtypes"
   ]
  },
  {
   "cell_type": "code",
   "execution_count": 41,
   "metadata": {},
   "outputs": [
    {
     "name": "stdout",
     "output_type": "stream",
     "text": [
      "     restaurant_name  rating  count\n",
      "0        Shake Shack     5.0     60\n",
      "1  The Meatball Shop     5.0     53\n"
     ]
    }
   ],
   "source": [
    "# Convert the 'rating' column to a numeric data type\n",
    "df['rating'] = pd.to_numeric(df['rating'], errors='coerce')\n",
    "\n",
    "# Get the count of restaurants with each rating, and rename the count column\n",
    "count = df[['restaurant_name', 'rating']].value_counts().reset_index().rename(columns={0: 'count'})\n",
    "\n",
    "# Filter the DataFrame for rows with a count greater than 50 and a rating greater than 4\n",
    "filtered_df = count[count['count'] > 50]\n",
    "filtered_df = filtered_df[filtered_df['rating'] > 4]\n",
    "\n",
    "# Print the filtered DataFrame\n",
    "print(filtered_df)\n"
   ]
  },
  {
   "cell_type": "code",
   "execution_count": 32,
   "metadata": {},
   "outputs": [
    {
     "data": {
      "text/html": [
       "<div>\n",
       "<style scoped>\n",
       "    .dataframe tbody tr th:only-of-type {\n",
       "        vertical-align: middle;\n",
       "    }\n",
       "\n",
       "    .dataframe tbody tr th {\n",
       "        vertical-align: top;\n",
       "    }\n",
       "\n",
       "    .dataframe thead th {\n",
       "        text-align: right;\n",
       "    }\n",
       "</style>\n",
       "<table border=\"1\" class=\"dataframe\">\n",
       "  <thead>\n",
       "    <tr style=\"text-align: right;\">\n",
       "      <th></th>\n",
       "      <th>restaurant_name</th>\n",
       "      <th>rating</th>\n",
       "      <th>count</th>\n",
       "    </tr>\n",
       "  </thead>\n",
       "  <tbody>\n",
       "    <tr>\n",
       "      <th>0</th>\n",
       "      <td>Shake Shack</td>\n",
       "      <td>5.0</td>\n",
       "      <td>60</td>\n",
       "    </tr>\n",
       "    <tr>\n",
       "      <th>1</th>\n",
       "      <td>The Meatball Shop</td>\n",
       "      <td>5.0</td>\n",
       "      <td>53</td>\n",
       "    </tr>\n",
       "  </tbody>\n",
       "</table>\n",
       "</div>"
      ],
      "text/plain": [
       "     restaurant_name  rating  count\n",
       "0        Shake Shack     5.0     60\n",
       "1  The Meatball Shop     5.0     53"
      ]
     },
     "execution_count": 32,
     "metadata": {},
     "output_type": "execute_result"
    }
   ],
   "source": [
    "# gets the count and rename\n",
    "count = df[['restaurant_name','rating']].value_counts().reset_index().rename(columns\n",
    "                                                                             ={0:'count'})\n",
    "\n",
    "# Convert the 'rating' column to a numeric data type\n",
    "# count['rating'] = pd.to_numeric(count['rating'], errors='coerce')\n",
    "\n",
    "# Filter the DataFrame for rows with a rating greater than 4\n",
    "filtered_df = count[count['count'] > 50]\n",
    "filtered_df[filtered_df['rating']>4]"
   ]
  },
  {
   "cell_type": "markdown",
   "metadata": {
    "id": "10uryUMhJY_V"
   },
   "source": [
    "#### Observations:\n",
    "There are two restaurants with count above 50 and average rating above 4. <br>\n",
    "They are: Shake Shack and The Meatball Shop"
   ]
  },
  {
   "cell_type": "markdown",
   "metadata": {
    "id": "1gvWBkRUJY_V"
   },
   "source": [
    "### **Question 14:** The company charges the restaurant 25% on the orders having cost greater than 20 dollars and 15% on the orders having cost greater than 5 dollars. Find the net revenue generated by the company across all orders. [1.5 marks]"
   ]
  },
  {
   "cell_type": "code",
   "execution_count": 33,
   "metadata": {
    "id": "rEjbnTNEJY_W"
   },
   "outputs": [
    {
     "name": "stdout",
     "output_type": "stream",
     "text": [
      "Net revenue generated by the company: $ 6166.3\n"
     ]
    }
   ],
   "source": [
    "# Calculate the revenue generated from each order\n",
    "revenue = []\n",
    "for cost in df['cost_of_the_order']:\n",
    "    if cost > 20:\n",
    "        revenue.append(cost * 0.25)\n",
    "    elif cost > 5:\n",
    "        revenue.append(cost * 0.15)\n",
    "    else:\n",
    "        revenue.append(0)\n",
    "\n",
    "# Calculate the net revenue generated by summing up the revenue from all orders\n",
    "net_revenue = sum(revenue)\n",
    "\n",
    "# Print the net revenue\n",
    "print(\"Net revenue generated by the company: $\", round(net_revenue, 2))\n"
   ]
  },
  {
   "cell_type": "markdown",
   "metadata": {
    "id": "XHCEJgH0JY_W"
   },
   "source": [
    "#### Observations:\n",
    "For orders having a cost greater than $20 , the company charges 25%. Therefore, the revenue generated from these orders will be 25% of the cost of the order.\n",
    "\n",
    "For orders having a cost greater than 5 dollars , but less than or equal to 20 dollars,  the company charges 15%. Therefore, the revenue generated from these orders will be 15% of the cost of the order.\n",
    "\n",
    "For orders having a cost less than or equal to $5, the company does not charge anything.\n",
    "\n",
    "We can calculate the net revenue by summing up the revenue generated from all orders.\n",
    "The sum is $6166.3"
   ]
  },
  {
   "cell_type": "markdown",
   "metadata": {
    "id": "pRlVW-oeJY_W"
   },
   "source": [
    "### **Question 15:** The company wants to analyze the total time required to deliver the food. What percentage of orders take more than 60 minutes to get delivered from the time the order is placed? (The food has to be prepared and then delivered.) [1 marks]"
   ]
  },
  {
   "cell_type": "code",
   "execution_count": 34,
   "metadata": {},
   "outputs": [
    {
     "name": "stdout",
     "output_type": "stream",
     "text": [
      "maximum time to prepare food: 35 minutes\n",
      "maximum time to deliver food: 33 minutes\n",
      "mean food preparation time: 27.371970495258168 minutes\n",
      "mean delivery time: 24.161749209694417 minutes\n"
     ]
    }
   ],
   "source": [
    "print('maximum time to prepare food:', df.food_preparation_time.max(),'minutes')\n",
    "print('maximum time to deliver food:', df.delivery_time.max(),'minutes')\n",
    "print('mean food preparation time:', df.food_preparation_time.mean(),'minutes')\n",
    "print('mean delivery time:', df.delivery_time.mean(),'minutes')"
   ]
  },
  {
   "cell_type": "code",
   "execution_count": 35,
   "metadata": {},
   "outputs": [
    {
     "name": "stdout",
     "output_type": "stream",
     "text": [
      "number of orders > 60: 200\n",
      "Total number of orders: 1898\n",
      "Percentage of orders that take more than 60 minutes:  10.54 %\n"
     ]
    }
   ],
   "source": [
    "\n",
    "\n",
    "# Calculate the total time for each order\n",
    "df['total_time'] = df['food_preparation_time'] + df['delivery_time']\n",
    "\n",
    "# Calculate the percentage of orders that take more than 60 minutes\n",
    "num_orders_greater_than_60 = len(df[df['total_time'] > 60])\n",
    "total_num_orders = len(df)\n",
    "percentage_greater_than_60 = (num_orders_greater_than_60 / total_num_orders) * 100\n",
    "\n",
    "# Print the percentage of orders that take more than 60 minutes\n",
    "print('number of orders > 60:',num_orders_greater_than_60)\n",
    "print('Total number of orders:',total_num_orders)\n",
    "print(\"Percentage of orders that take more than 60 minutes: \", round(percentage_greater_than_60, 2), \"%\")\n"
   ]
  },
  {
   "cell_type": "markdown",
   "metadata": {
    "id": "iqzBXn2yJY_W"
   },
   "source": [
    "#### Observations:\n",
    "* The maximum time to prepare food is 35 minutes.<br>\n",
    "* Maximum time to deliver food is 33 minutes.<br>\n",
    "* Mean food preparation time is 27.37 minutes.<br>\n",
    "* Mean delivery time is 24.16 minutes.<br>\n",
    "\n",
    "* The total number of orders made is 1898 in total.<br>\n",
    "* The number of orders greater than 60 minutes is 200.<br>\n",
    "* Therefore 10.54% took more than 60 minutes."
   ]
  },
  {
   "cell_type": "markdown",
   "metadata": {
    "id": "bUd6cYpPJY_W"
   },
   "source": [
    "### **Question 16:** The company wants to analyze the delivery time of the orders on weekdays and weekends. How does the mean delivery time vary during weekdays and weekends? [1 marks]"
   ]
  },
  {
   "cell_type": "code",
   "execution_count": 36,
   "metadata": {
    "id": "pIU5xZZ6JY_W"
   },
   "outputs": [
    {
     "name": "stdout",
     "output_type": "stream",
     "text": [
      "Mean delivery time for weekdays:  28.34 minutes\n",
      "Mean delivery time for weekends:  22.47 minutes\n"
     ]
    }
   ],
   "source": [
    "# Group the orders by day of the week and calculate the mean delivery time\n",
    "grouped_data = df.groupby('day_of_the_week')['delivery_time'].mean()\n",
    "\n",
    "# Print the mean delivery time for weekdays and weekends\n",
    "print(\"Mean delivery time for weekdays: \", round(grouped_data.loc['Weekday'], 2), \"minutes\")\n",
    "print(\"Mean delivery time for weekends: \", round(grouped_data.loc['Weekend'], 2), \"minutes\")\n"
   ]
  },
  {
   "cell_type": "code",
   "execution_count": 37,
   "metadata": {},
   "outputs": [
    {
     "name": "stdout",
     "output_type": "stream",
     "text": [
      "Coefficient of variation for delivery time on weekdays:  0.1\n",
      "Coefficient of variation for delivery time on weekends:  0.21\n"
     ]
    }
   ],
   "source": [
    "# Calculate the mean and standard deviation of the delivery time for weekdays and weekends\n",
    "weekday_delivery_time = df[df['day_of_the_week'] == 'Weekday']['delivery_time']\n",
    "weekend_delivery_time = df[df['day_of_the_week'] == 'Weekend']['delivery_time']\n",
    "mean_weekday = np.mean(weekday_delivery_time)\n",
    "mean_weekend = np.mean(weekend_delivery_time)\n",
    "std_weekday = np.std(weekday_delivery_time)\n",
    "std_weekend = np.std(weekend_delivery_time)\n",
    "\n",
    "# Calculate the coefficient of variation for the delivery time on weekdays and weekends\n",
    "cv_weekday = std_weekday / mean_weekday\n",
    "cv_weekend = std_weekend / mean_weekend\n",
    "\n",
    "# Print the coefficient of variation for the delivery time on weekdays and weekends\n",
    "print(\"Coefficient of variation for delivery time on weekdays: \", round(cv_weekday, 2))\n",
    "print(\"Coefficient of variation for delivery time on weekends: \", round(cv_weekend, 2))\n"
   ]
  },
  {
   "cell_type": "markdown",
   "metadata": {
    "id": "8H-ODxbVJY_W"
   },
   "source": [
    "#### Observations:\n",
    "The coefficient of variation for delivery time on weekdays is 0.1 and the coefficient of variation for delivery time on weekends is 0.21. This indicates that the delivery time on weekends is more variable compared to weekdays. A higher coefficient of variation means that the data has more variation relative to its mean, while a lower coefficient of variation means that the data is more tightly clustered around the mean."
   ]
  },
  {
   "cell_type": "markdown",
   "metadata": {
    "id": "17roJywaJY_W"
   },
   "source": [
    "### Conclusion and Recommendations"
   ]
  },
  {
   "cell_type": "markdown",
   "metadata": {
    "id": "ZdX2Wz4FJY_W"
   },
   "source": [
    "### **Question 17:** What are your conclusions from the analysis? What recommendations would you like to share to help improve the business? (You can use cuisine type and feedback ratings to drive your business recommendations.) [5 marks]"
   ]
  },
  {
   "cell_type": "markdown",
   "metadata": {
    "id": "VTugVsL4Ddz-"
   },
   "source": [
    "### Conclusions:\n",
    "*  American and Japanese cuisines are the most popular, accounting for over 50% of all orders.\n",
    "* There is no strong relationship between delivery time, food preparation time, and customer ratings, indicating that other factors beyond totaltime taken may influence customer satisfaction.\n",
    "* Shake Shack and The Meatball Shop are two popular restaurants with high order counts and average ratings above 4.\n",
    "* Delivery time and food preparation time vary between weekdays and weekends, which can influence customer experience.\n",
    "* The net revenue generated by the company is $6166.3, with different percentages charged based on the cost of the order. \n",
    "* It is important to note that 10.54% of the orders take more than 60 minutes to be prepared and delivered, indicating potential areas for improvement in the food delivery process."
   ]
  },
  {
   "cell_type": "markdown",
   "metadata": {
    "id": "PWnsI0i_guWJ"
   },
   "source": [
    "### Recommendations:\n",
    "\n",
    "*  Focus on popular cuisines: Expand menu offerings in American and Japanese cuisines to cater to customer preferences. Introduce new dishes, seasonal specials, or limited-time promotions to attract more customers and increase sales.\n",
    "\n",
    "* Monitor feedback for less popular cuisines: Analyze customer feedback and ratings for less frequently ordered cuisines to identify areas for improvement. Address these concerns and promote unique aspects of these cuisines to increase their appeal and grow market share.\n",
    "\n",
    "* Maintain and improve high ratings especially the spanish cuisine type: Regularly monitor feedback ratings and address any negative feedback or recurring issues. Invest in employee training, quality control, and implement processes to ensure a consistent, high-quality customer experience.\n",
    "\n",
    "* Leverage positive feedback: Use high ratings and positive customer feedback as a marketing tool to attract new customers. Share testimonials, highlight positive reviews on social media, and showcase popular dishes to increase brand visibility.\n",
    "\n",
    "* Diversify cuisine offerings: Consider diversifying menu offerings by researching market trends and exploring new or emerging cuisines. Cater to a broader customer base and stay ahead of the competition by offering unique dining experiences.\n",
    "\n",
    "* Collaborate with popular restaurants: Partner or collaborate with popular establishments like Shake Shack and The Meatball Shop for co-branded promotions, special menus, or exclusive events to increase brand visibility and attract new customers.\n",
    "\n"
   ]
  },
  {
   "cell_type": "markdown",
   "metadata": {
    "id": "tSoucKKbg9Hc"
   },
   "source": [
    "---"
   ]
  }
 ],
 "metadata": {
  "colab": {
   "collapsed_sections": [],
   "name": "PYF_Project_LearnerNotebook_FullCode.ipynb",
   "provenance": []
  },
  "hide_input": false,
  "kernelspec": {
   "display_name": "Python 3 (ipykernel)",
   "language": "python",
   "name": "python3"
  },
  "language_info": {
   "codemirror_mode": {
    "name": "ipython",
    "version": 3
   },
   "file_extension": ".py",
   "mimetype": "text/x-python",
   "name": "python",
   "nbconvert_exporter": "python",
   "pygments_lexer": "ipython3",
   "version": "3.10.9"
  },
  "toc": {
   "base_numbering": 1,
   "nav_menu": {},
   "number_sections": true,
   "sideBar": true,
   "skip_h1_title": false,
   "title_cell": "Table of Contents",
   "title_sidebar": "Contents",
   "toc_cell": false,
   "toc_position": {},
   "toc_section_display": true,
   "toc_window_display": false
  },
  "varInspector": {
   "cols": {
    "lenName": 16,
    "lenType": 16,
    "lenVar": 40
   },
   "kernels_config": {
    "python": {
     "delete_cmd_postfix": "",
     "delete_cmd_prefix": "del ",
     "library": "var_list.py",
     "varRefreshCmd": "print(var_dic_list())"
    },
    "r": {
     "delete_cmd_postfix": ") ",
     "delete_cmd_prefix": "rm(",
     "library": "var_list.r",
     "varRefreshCmd": "cat(var_dic_list()) "
    }
   },
   "types_to_exclude": [
    "module",
    "function",
    "builtin_function_or_method",
    "instance",
    "_Feature"
   ],
   "window_display": false
  }
 },
 "nbformat": 4,
 "nbformat_minor": 1
}
